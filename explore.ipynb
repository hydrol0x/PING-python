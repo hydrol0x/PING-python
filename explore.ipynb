{
 "cells": [
  {
   "cell_type": "code",
   "execution_count": 23,
   "metadata": {},
   "outputs": [
    {
     "ename": "AttributeError",
     "evalue": "Failed to get attribute enable_notebook from ROOT",
     "output_type": "error",
     "traceback": [
      "\u001b[0;31m---------------------------------------------------------------------------\u001b[0m",
      "\u001b[0;31mAttributeError\u001b[0m                            Traceback (most recent call last)",
      "\u001b[1;32m/home/jacobr/documents/programming/PING_PYXIS/explore.ipynb Cell 1\u001b[0m line \u001b[0;36m2\n\u001b[1;32m      <a href='vscode-notebook-cell://wsl%2Bubuntu/home/jacobr/documents/programming/PING_PYXIS/explore.ipynb#W1sdnNjb2RlLXJlbW90ZQ%3D%3D?line=0'>1</a>\u001b[0m \u001b[39mimport\u001b[39;00m \u001b[39mROOT\u001b[39;00m\n\u001b[0;32m----> <a href='vscode-notebook-cell://wsl%2Bubuntu/home/jacobr/documents/programming/PING_PYXIS/explore.ipynb#W1sdnNjb2RlLXJlbW90ZQ%3D%3D?line=1'>2</a>\u001b[0m ROOT\u001b[39m.\u001b[39;49menable_notebook()\n",
      "File \u001b[0;32m/home/jacobr/anaconda3/envs/ping_root/lib/python3.11/site-packages/ROOT/_facade.py:196\u001b[0m, in \u001b[0;36mROOTFacade._fallback_getattr\u001b[0;34m(self, name)\u001b[0m\n\u001b[1;32m    194\u001b[0m     \u001b[39mif\u001b[39;00m res:\n\u001b[1;32m    195\u001b[0m         \u001b[39mreturn\u001b[39;00m res\n\u001b[0;32m--> 196\u001b[0m \u001b[39mraise\u001b[39;00m \u001b[39mAttributeError\u001b[39;00m(\u001b[39m\"\u001b[39m\u001b[39mFailed to get attribute \u001b[39m\u001b[39m{}\u001b[39;00m\u001b[39m from ROOT\u001b[39m\u001b[39m\"\u001b[39m\u001b[39m.\u001b[39mformat(name))\n",
      "\u001b[0;31mAttributeError\u001b[0m: Failed to get attribute enable_notebook from ROOT"
     ]
    }
   ],
   "source": [
    "import ROOT\n",
    "ROOT.enable_notebook()"
   ]
  },
  {
   "cell_type": "code",
   "execution_count": 13,
   "metadata": {},
   "outputs": [],
   "source": [
    "def read_root_file(file_path):\n",
    "    # Open the ROOT file\n",
    "    root_file = ROOT.TFile.Open(file_path, \"READ\")\n",
    "\n",
    "    if root_file.IsOpen():\n",
    "        print(f\"Successfully opened file {file_path}\")\n",
    "    else:\n",
    "        print(f\"Failed to open file {file_path}\")\n",
    "        return\n",
    "\n",
    "    # List all objects in the file\n",
    "    root_file.ls()\n",
    "\n",
    "    # Loop over each object in the file\n",
    "    for key in root_file.GetListOfKeys():\n",
    "        obj = key.ReadObj()\n",
    "        print(f\"Name: {obj.GetName()}, Type: {obj.ClassName()}\")\n",
    "\n",
    "        # If the object is a tree, print some additional information\n",
    "        if obj.InheritsFrom(\"TTree\"):\n",
    "            tree = ROOT.TTree()\n",
    "            obj.SetBranchAddress(\"branch_name\", tree)\n",
    "            print(f\"Tree has {tree.GetEntries()} entries\")\n",
    "\n",
    "    root_file.Close()\n"
   ]
  },
  {
   "cell_type": "code",
   "execution_count": 17,
   "metadata": {},
   "outputs": [],
   "source": [
    "def draw_histograms(file_path, hist_names: list):\n",
    "    root_file = ROOT.TFile.Open(file_path, \"READ\")\n",
    "\n",
    "    if not root_file.IsOpen():\n",
    "        print(f\"Failed to open file {file_path}\")\n",
    "        return\n",
    "\n",
    "    # Retrieve and draw histograms\n",
    "    for name in hist_names:\n",
    "        hist = root_file.Get(name)\n",
    "        if hist:\n",
    "            canvas = ROOT.TCanvas()\n",
    "            hist.Draw()\n",
    "            canvas.Draw()\n",
    "        else:\n",
    "            print(f\"Histogram {name} not found in file.\")\n",
    "\n",
    "    root_file.Close()"
   ]
  },
  {
   "cell_type": "code",
   "execution_count": 18,
   "metadata": {},
   "outputs": [
    {
     "name": "stdout",
     "output_type": "stream",
     "text": [
      "Successfully opened file data/rutherford_3MeV_10k.root\n",
      "Name: 0, Type: TH1D\n",
      "Name: 1, Type: TH1D\n",
      "TFile**\t\tdata/rutherford_3MeV_10k.root\t\n",
      " TFile*\t\tdata/rutherford_3MeV_10k.root\t\n",
      "  KEY: TH1D\t0;1\tEnergy deposit in Detector\n",
      "  KEY: TH1D\t1;1\tAngular distribution from Detector\n"
     ]
    }
   ],
   "source": [
    "path = \"data/rutherford_3MeV_10k.root\"\n",
    "read_root_file(path)"
   ]
  },
  {
   "cell_type": "code",
   "execution_count": 20,
   "metadata": {},
   "outputs": [],
   "source": [
    "# Enable JavaScript visualizations for Jupyter\n",
    "ROOT.enableJSVis()\n",
    "\n",
    "def draw_histograms_in_notebook(file_path):\n",
    "    # Open the ROOT file\n",
    "    root_file = ROOT.TFile.Open(file_path, \"READ\")\n",
    "\n",
    "    if not root_file.IsOpen():\n",
    "        print(f\"Failed to open file {file_path}\")\n",
    "        return\n",
    "\n",
    "    # Retrieve and draw histograms\n",
    "    hist_names = [\"0\", \"1\"]  # Update these names if different in your file\n",
    "    for name in hist_names:\n",
    "        hist = root_file.Get(name)\n",
    "        if hist:\n",
    "            canvas = ROOT.TCanvas()\n",
    "            hist.Draw()\n",
    "            canvas.Draw()\n",
    "        else:\n",
    "            print(f\"Histogram {name} not found in file.\")\n",
    "\n",
    "    # Close the file\n",
    "    root_file.Close()\n",
    "\n",
    "# Disable JavaScript visualizations to revert to the default after the function is done\n",
    "ROOT.disableJSVis()\n",
    "\n",
    "# Example usage\n",
    "draw_histograms_in_notebook(\"data/rutherford_3MeV_10k.root\")"
   ]
  },
  {
   "cell_type": "code",
   "execution_count": 19,
   "metadata": {},
   "outputs": [],
   "source": [
    "hist_names = {\"0\", \"1\"}\n",
    "draw_histograms(path, hist_names)"
   ]
  },
  {
   "cell_type": "code",
   "execution_count": null,
   "metadata": {},
   "outputs": [],
   "source": [
    "c = ROOT.TCanvas(\"myCanvasName\",\"The Canvas Title\",800,600)\n",
    "h = ROOT.TH1F(\"gauss\",\"Example histogram\",100,-4,4)\n",
    "h.FillRandom(\"gaus\")\n",
    "h.Draw()\n",
    "c.Draw()"
   ]
  }
 ],
 "metadata": {
  "kernelspec": {
   "display_name": "Python 3",
   "language": "python",
   "name": "python3"
  },
  "language_info": {
   "codemirror_mode": {
    "name": "ipython",
    "version": 3
   },
   "file_extension": ".py",
   "mimetype": "text/x-python",
   "name": "python",
   "nbconvert_exporter": "python",
   "pygments_lexer": "ipython3",
   "version": "3.11.6"
  }
 },
 "nbformat": 4,
 "nbformat_minor": 2
}
